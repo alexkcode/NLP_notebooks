{
 "cells": [
  {
   "cell_type": "code",
   "execution_count": 1,
   "metadata": {
    "collapsed": false
   },
   "outputs": [
    {
     "name": "stdout",
     "output_type": "stream",
     "text": [
      "{\"status\":\"ok\",\"source\":\"reuters\",\"sortBy\":\"top\",\"articles\":[{\"author\":\"Ginny McCabe\",\"title\":\"U.S. student, freed from North Korea with neurological injury, was 'brutalized': father\",\"description\":\"An American university student who was detained for 17 months in North Korea and suffered a serious neurological injury was \\\"brutalized\\\" while in custody, his father said on Thursday.\",\"url\":\"http://www.reuters.com/article/us-usa-northkorea-detainee-idUSKBN196137\",\"urlToImage\":\"https://s4.reutersmedia.net/resources/r/?m=02&d=20170615&t=2&i=1189101198&w=&fh=545px&fw=&ll=&pl=&sq=&r=LYNXMPED5E0QX\",\"publishedAt\":\"2017-06-15T18:18:24Z\"},{\"author\":\"Lewis Krauskopf\",\"title\":\"Wall Street stumbles as tech slide deepens\",\"description\":\"Wall Street fell on Thursday as a recent selloff in technology stocks deepened and investors fretted about the economy's health as the Federal Reserve raises interest rates.\",\"url\":\"http://www.reuters.com/article/us-usa-stocks-idUSKBN1961D7\",\"urlToImage\":\"https://s3.reutersmedia.net/resources/r/?m=02&d=20170615&t=2&i=1189176003&w=&fh=545px&fw=&ll=&pl=&sq=&r=LYNXMPED5E1NP\",\"publishedAt\":\"2017-06-15T19:29:35Z\"},{\"author\":\"Susan Cornwell and David Morgan\",\"title\":\"U.S. congressman undergoes another operation after shooting\",\"description\":\"U.S. Representative Steve Scalise underwent a third operation on Thursday, a day after suffering serious wounds when a man who had expressed anger toward President Donald Trump opened fire on Republican lawmakers at a baseball practice, a source familiar with his condition said.\",\"url\":\"http://www.reuters.com/article/us-virginia-shooting-idUSKBN1961W8\",\"urlToImage\":\"https://s2.reutersmedia.net/resources/r/?m=02&d=20170615&t=2&i=1189133771&w=&fh=545px&fw=&ll=&pl=&sq=&r=LYNXMPED5E19D\",\"publishedAt\":\"2017-06-15T19:17:24Z\"},{\"author\":\"Reuters Editorial\",\"title\":\"Iraqi forces say about to encircle Islamic State in Mosul's Old City\",\"description\":\"Iraqi forces said they were about to complete the encirclement of Islamic State's stronghold in the Old City of Mosul, after taking control of a neighboring district on Thursday.\",\"url\":\"http://www.reuters.com/article/us-mideast-crisis-iraq-mosul-idUSKBN1961Z9\",\"urlToImage\":\"https://s4.reutersmedia.net/resources/r/?m=02&d=20170615&t=2&i=1189175360&w=&fh=545px&fw=&ll=&pl=&sq=&r=LYNXMPED5E1WW\",\"publishedAt\":\"2017-06-15T19:24:59Z\"},{\"author\":\"Julia Edwards Ainsley\",\"title\":\"Trump lashes out over probe into possible obstruction of justice\",\"description\":\"U.S. President Donald Trump lashed out on Thursday after a report that he was under investigation for possible obstruction of justice and he dismissed as \\\"phony\\\" the idea his campaign colluded with any Russian effort to sway the 2016 U.S. election.\",\"url\":\"http://www.reuters.com/article/us-usa-trump-russia-idUSKBN195385\",\"urlToImage\":\"https://s4.reutersmedia.net/resources/r/?m=02&d=20170615&t=2&i=1189112043&w=&fh=545px&fw=&ll=&pl=&sq=&r=LYNXMPED5D1WT\",\"publishedAt\":\"2017-06-15T19:21:47Z\"},{\"author\":\"Alastair Macdonald\",\"title\":\"Pay up, make nice if you want \\\"soft Brexit\\\", EU to tell May\",\"description\":\"Theresa May should agree to pay Britain's bills to the European Union and drop threats to walk out without a legal deal if she wants talks on the \\\"softer Brexit\\\" some of her allies are calling for, EU negotiators say.\",\"url\":\"http://www.reuters.com/article/us-britain-election-eu-analysis-idUSKBN19620C\",\"urlToImage\":\"https://s4.reutersmedia.net/resources/r/?m=02&d=20170615&t=2&i=1189140554&w=&fh=545px&fw=&ll=&pl=&sq=&r=LYNXMPED5E1BR\",\"publishedAt\":\"2017-06-15T16:39:27Z\"},{\"author\":\"Andrew Cawthorne\",\"title\":\"Venezuela politician's 'disappearance' stirs Chavez's home state\",\"description\":\"He had just left his office by car and was passing a nearby church when the state security vans swooped in on Wilmer Azuaje.\",\"url\":\"http://www.reuters.com/article/us-venezuela-politics-arrest-idUSKBN1961HD\",\"urlToImage\":\"https://s4.reutersmedia.net/resources/r/?m=02&d=20170615&t=2&i=1189120574&w=&fh=545px&fw=&ll=&pl=&sq=&r=LYNXMPED5E0ZV\",\"publishedAt\":\"2017-06-15T12:47:10Z\"},{\"author\":\"Tom Finn\",\"title\":\"Qatar says fighter jets deal shows deep U.S. support\",\"description\":\"A $12 billion deal to buy U.S. F-15 fighter jets shows Qatar has deep-rooted support from Washington, a Qatari official said on Thursday, despite President Donald Trump's repeated accusations that Doha supports terrorism.\",\"url\":\"http://www.reuters.com/article/us-gulf-qatar-idUSKBN19611J\",\"urlToImage\":\"https://s2.reutersmedia.net/resources/r/?m=02&d=20170615&t=2&i=1189164805&w=&fh=545px&fw=&ll=&pl=&sq=&r=LYNXMPED5E1LD\",\"publishedAt\":\"2017-06-15T18:15:52Z\"},{\"author\":\"Polina Nikolskaya and Andrew Osborn\",\"title\":\"Putin, in pre-election year, pledges to erase spiralling poverty\",\"description\":\"Russian President Vladimir Putin pledged to eradicate spiralling poverty and ensure people were properly housed and paid, in a marathon TV appearance on Thursday that looked like a pitch to voters ahead of a presidential election next year.\",\"url\":\"http://www.reuters.com/article/us-russia-putin-idUSKBN1961TK\",\"urlToImage\":\"https://s4.reutersmedia.net/resources/r/?m=02&d=20170615&t=2&i=1189162088&w=&fh=545px&fw=&ll=&pl=&sq=&r=LYNXMPED5E16Y\",\"publishedAt\":\"2017-06-15T17:46:20Z\"},{\"author\":\"Alistair Smout and Estelle Shirbon\",\"title\":\"UK to hold inquiry into London apartment block fire as death toll rises to 17\",\"description\":\"British Prime Minister Theresa May on Thursday promised a public inquiry into a fire that gutted a 24-floor apartment block killing at least 17 people, as the government faced questions about how such a devastating blaze could have occurred.\",\"url\":\"http://www.reuters.com/article/us-britain-fire-idUSKBN1960HP\",\"urlToImage\":\"https://s2.reutersmedia.net/resources/r/?m=02&d=20170615&t=2&i=1189171404&w=&fh=545px&fw=&ll=&pl=&sq=&r=LYNXMPED5E1UD\",\"publishedAt\":\"2017-06-15T18:53:17Z\"}]}\n"
     ]
    }
   ],
   "source": [
    "import requests\n",
    "\n",
    "payload = {'apiKey':'5817172169fb49428266737dba687e1c',\n",
    "           'source':'reuters'}\n",
    "r = requests.get('https://newsapi.org/v1/articles', params=payload)\n",
    "\n",
    "print(r.text)"
   ]
  }
 ],
 "metadata": {
  "kernelspec": {
   "display_name": "Python 3",
   "language": "python",
   "name": "python3"
  },
  "language_info": {
   "codemirror_mode": {
    "name": "ipython",
    "version": 3
   },
   "file_extension": ".py",
   "mimetype": "text/x-python",
   "name": "python",
   "nbconvert_exporter": "python",
   "pygments_lexer": "ipython3",
   "version": "3.6.0"
  }
 },
 "nbformat": 4,
 "nbformat_minor": 2
}
