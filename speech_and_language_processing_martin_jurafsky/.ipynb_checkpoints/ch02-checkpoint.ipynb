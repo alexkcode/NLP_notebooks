{
 "cells": [
  {
   "cell_type": "markdown",
   "metadata": {},
   "source": [
    "### 2.6\n",
    "\n",
    "Implement minimum edit distance algorithm."
   ]
  },
  {
   "cell_type": "code",
   "execution_count": 7,
   "metadata": {
    "collapsed": false
   },
   "outputs": [],
   "source": [
    "import numpy as np\n",
    "from typing import Callable\n",
    "\n",
    "def min_edit_dist(src: str, \n",
    "                  tgt: str, \n",
    "                  del_cost: Callable[[str], int] = lambda x: 1, \n",
    "                  ins_cost: Callable[[str], int] = lambda x: 1,\n",
    "                  sub_cost: Callable[[str, str], int] = lambda x: 2) -> int:\n",
    "    n, m = len(src), len(tgt)\n",
    "    D = np.zeros((n+1,m+1))\n",
    "    for i in range(n):\n",
    "        D[i,0] = D[i-1,0] + del_cost(src[i])\n",
    "    for j in range(m):\n",
    "        D[0,j] = D[0,j-1] + ins_cost(tgt[j])\n",
    "        \n",
    "    for i,j in ((a,b) for a in range(n) for b in range(m)):\n",
    "        D[i,j] = min(D[i-1,j] + del_cost(src[i]),\n",
    "                     D[i-1,j-1] + sub_cost(src[i], tgt[j]),\n",
    "                     D[i,j-1] + ins_cost(tgt[j]))\n",
    "        \n",
    "    return D[n,m]"
   ]
  },
  {
   "cell_type": "code",
   "execution_count": 13,
   "metadata": {
    "collapsed": false,
    "scrolled": true
   },
   "outputs": [
    {
     "name": "stderr",
     "output_type": "stream",
     "text": [
      ".\n",
      "----------------------------------------------------------------------\n",
      "Ran 1 test in 0.020s\n",
      "\n",
      "OK\n"
     ]
    },
    {
     "data": {
      "text/plain": [
       "<unittest.runner.TextTestResult run=1 errors=0 failures=0>"
      ]
     },
     "execution_count": 13,
     "metadata": {},
     "output_type": "execute_result"
    }
   ],
   "source": [
    "import unittest\n",
    "\n",
    "class TestMinEditDist(unittest.TestCase):\n",
    "    \n",
    "    def test_base(self):\n",
    "        src, tgt = \"\", \"\"\n",
    "        self.assertEqual(min_edit_dist(src, tgt), 0)\n",
    "        \n",
    "test = TestMinEditDist()\n",
    "test_suite = unittest.TestLoader().loadTestsFromModule(test)\n",
    "\n",
    "unittest.TextTestRunner().run(test_suite)"
   ]
  }
 ],
 "metadata": {
  "kernelspec": {
   "display_name": "Python 3",
   "language": "python",
   "name": "python3"
  },
  "language_info": {
   "codemirror_mode": {
    "name": "ipython",
    "version": 3
   },
   "file_extension": ".py",
   "mimetype": "text/x-python",
   "name": "python",
   "nbconvert_exporter": "python",
   "pygments_lexer": "ipython3",
   "version": "3.6.0"
  }
 },
 "nbformat": 4,
 "nbformat_minor": 2
}
