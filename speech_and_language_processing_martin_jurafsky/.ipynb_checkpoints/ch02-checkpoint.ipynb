{
 "cells": [
  {
   "cell_type": "markdown",
   "metadata": {},
   "source": [
    "### 2.6\n",
    "\n",
    "Implement minimum edit distance algorithm.\n",
    "\n",
    "Steps of algorithm summarized in english:\n",
    "\n",
    "1. "
   ]
  },
  {
   "cell_type": "code",
   "execution_count": 23,
   "metadata": {
    "collapsed": false
   },
   "outputs": [],
   "source": [
    "import numpy as np\n",
    "from typing import Callable\n",
    "\n",
    "def min_edit_dist(src: str, \n",
    "                  tgt: str, \n",
    "                  del_cost: Callable[[str], int] = lambda x: 1, \n",
    "                  ins_cost: Callable[[str], int] = lambda x: 1,\n",
    "                  sub_cost: Callable[[str, str], int] = lambda x,y: 0 if x==y else 2) -> int:\n",
    "    \"\"\"returns minium edit distance between two strings with Levenshtein distance as default\"\"\"\n",
    "    n, m = len(src), len(tgt)\n",
    "    D = np.zeros((n+1,m+1))\n",
    "    for i in range(n):\n",
    "        D[i+1,0] = D[i,0] + del_cost(src[i])\n",
    "    for j in range(m):\n",
    "        D[0,j+1] = D[0,j] + ins_cost(tgt[j])\n",
    "        \n",
    "#     for i,j in ((a,b) for a in range(1,n+1) for b in range(1,m+1)):\n",
    "#         D[i,j] = min(D[i-1,j] + del_cost(src[i-1]),\n",
    "#                      D[i-1,j-1] + sub_cost(src[i-1], tgt[j-1]),\n",
    "#                      D[i,j-1] + ins_cost(tgt[j-1]))\n",
    "    for i,j in ((a,b) for a in range(n) for b in range(m)):\n",
    "        D[i+1,j+1] = min(D[i,j+1] + del_cost(src[i]),\n",
    "                         D[i,j] + sub_cost(src[i], tgt[j]),\n",
    "                         D[i+1,j] + ins_cost(tgt[j]))\n",
    "    return D[n,m]"
   ]
  },
  {
   "cell_type": "code",
   "execution_count": 24,
   "metadata": {
    "collapsed": false,
    "scrolled": true
   },
   "outputs": [
    {
     "name": "stderr",
     "output_type": "stream",
     "text": [
      ".....\n",
      "----------------------------------------------------------------------\n",
      "Ran 5 tests in 0.008s\n",
      "\n",
      "OK\n"
     ]
    },
    {
     "data": {
      "text/plain": [
       "<unittest.runner.TextTestResult run=5 errors=0 failures=0>"
      ]
     },
     "execution_count": 24,
     "metadata": {},
     "output_type": "execute_result"
    }
   ],
   "source": [
    "import unittest\n",
    "\n",
    "class TestMinEditDist(unittest.TestCase):\n",
    "    \n",
    "    def test_trivial_base_case(self):\n",
    "        src, tgt = \"\", \"\"\n",
    "        src1, tgt1 = \"a\", \"a\"\n",
    "        self.assertEqual(min_edit_dist(src, tgt), 0)\n",
    "        self.assertEqual(min_edit_dist(src1, tgt1), 0)\n",
    "        \n",
    "    def test_all_delete_case(self):\n",
    "        src1, tgt1 = \"a\", \"\"\n",
    "        src2, tgt2 = \"ab\", \"\"\n",
    "        self.assertEqual(min_edit_dist(src1, tgt1), 1)\n",
    "        self.assertEqual(min_edit_dist(src2, tgt2), 2)\n",
    "        \n",
    "    def test_all_ins_case(self):\n",
    "        src1, tgt1 = \"\", \"a\"\n",
    "        src2, tgt2 = \"\", \"ab\"\n",
    "        self.assertEqual(min_edit_dist(src1, tgt1), 1)\n",
    "        self.assertEqual(min_edit_dist(src2, tgt2), 2)\n",
    "        \n",
    "    def test_all_sub_case(self):\n",
    "        src1, tgt1 = \"a\", \"b\"\n",
    "        src2, tgt2 = \"aa\", \"bb\"\n",
    "        self.assertEqual(min_edit_dist(src1, tgt1), 2)\n",
    "        self.assertEqual(min_edit_dist(src2, tgt2), 4)\n",
    "        \n",
    "    def test_all(self):\n",
    "        src1, tgt1 = \"acegh\", \"bdef\"\n",
    "        self.assertEqual(min_edit_dist(src1, tgt1), 7)\n",
    "        \n",
    "test = TestMinEditDist()\n",
    "test_suite = unittest.TestLoader().loadTestsFromModule(test)\n",
    "\n",
    "unittest.TextTestRunner().run(test_suite)"
   ]
  },
  {
   "cell_type": "code",
   "execution_count": 92,
   "metadata": {
    "collapsed": false
   },
   "outputs": [],
   "source": [
    "import numpy as np\n",
    "from typing import Callable\n",
    "\n",
    "def aug_min_edit_dist(src: str, \n",
    "                      tgt: str, \n",
    "                      del_cost: Callable[[str], int] = lambda x: 1, \n",
    "                      ins_cost: Callable[[str], int] = lambda x: 1,\n",
    "                      sub_cost: Callable[[str, str], int] = lambda x,y: 0 if x==y else 2) -> (int,str):\n",
    "    \"\"\"returns augmented edit distance and alignment of strings with Levenshtein as default metric\"\"\"\n",
    "    print(\"src: \", src, \"tgt: \", tgt)\n",
    "    alginment = \"\"\n",
    "    n, m = len(src), len(tgt)\n",
    "    if n == 0:\n",
    "        return m, \"I\" * m\n",
    "    if m == 0:\n",
    "        return n, \"D\" * n\n",
    "    D = np.zeros((n+1,m+1))\n",
    "    A = np.chararray((n+1,m+1), unicode=True)\n",
    "    A[:] = \"\"\n",
    "    for i in range(n):\n",
    "        D[i+1,0] = D[i,0] + del_cost(src[i])\n",
    "    for j in range(m):\n",
    "        D[0,j+1] = D[0,j] + ins_cost(tgt[j])\n",
    "    for i,j in ((a,b) for a in range(n) for b in range(m)):\n",
    "        cost = [D[i,j+1] + del_cost(src[i]),\n",
    "                D[i,j] + sub_cost(src[i], tgt[j]),\n",
    "                D[i+1,j] + ins_cost(tgt[j])]\n",
    "        D[i+1,j+1] = min(cost)\n",
    "        a = cost.index(min(cost))\n",
    "        print(\"cost idx: \", a)\n",
    "        print(\"cost: {0} at {1}\".format(cost,(i,j)))\n",
    "        if a == 1 and src[i] == tgt[j]:\n",
    "            print(\"sub?? really?\")\n",
    "            A[i+1,j+1] = A[i,j] + \"_\"\n",
    "        elif a == 0:\n",
    "            print(\"prev cell: \", A[i,j+1])\n",
    "            A[i+1,j+1] = A[i,j+1].join(\"D\")\n",
    "            print(\"this cell: \", A[i+1,j+1])\n",
    "        elif a == 1:\n",
    "            A[i+1,j+1] = A[i,j] + \"S\"\n",
    "        else:\n",
    "            A[i+1,j+1] = A[i+1,j] + \"I\"\n",
    "    print(D)\n",
    "    print(A)\n",
    "    return D[n,m], A[n,m]"
   ]
  },
  {
   "cell_type": "code",
   "execution_count": 91,
   "metadata": {
    "collapsed": false,
    "scrolled": true
   },
   "outputs": [
    {
     "name": "stderr",
     "output_type": "stream",
     "text": [
      "FFF."
     ]
    },
    {
     "name": "stdout",
     "output_type": "stream",
     "text": [
      "src:  a tgt:  b\n",
      "cost idx:  0\n",
      "cost: [2.0, 2.0, 2.0] at (0, 0)\n",
      "prev cell:  \n",
      "this cell:  D\n",
      "[[ 0.  1.]\n",
      " [ 1.  2.]]\n",
      "[['' '']\n",
      " ['' 'D']]\n",
      "src:  aa tgt:  \n",
      "src:  ab tgt:  a\n",
      "cost idx:  1\n",
      "cost: [2.0, 0.0, 2.0] at (0, 0)\n",
      "sub?? really?\n",
      "cost idx:  0\n",
      "cost: [1.0, 3.0, 3.0] at (1, 0)\n",
      "prev cell:  _\n",
      "this cell:  D\n",
      "[[ 0.  1.]\n",
      " [ 1.  0.]\n",
      " [ 2.  1.]]\n",
      "[['' '']\n",
      " ['' '_']\n",
      " ['' 'D']]\n",
      "src:   tgt:  aa\n",
      "src:  a tgt:  ab\n",
      "cost idx:  1\n",
      "cost: [2.0, 0.0, 2.0] at (0, 0)\n",
      "sub?? really?\n",
      "cost idx:  2\n",
      "cost: [3.0, 3.0, 1.0] at (0, 1)\n",
      "[[ 0.  1.  2.]\n",
      " [ 1.  0.  1.]]\n",
      "[['' '' '']\n",
      " ['' '_' '_']]\n",
      "src:   tgt:  \n",
      "src:  a tgt:  a\n",
      "cost idx:  1\n",
      "cost: [2.0, 0.0, 2.0] at (0, 0)\n",
      "sub?? really?\n",
      "[[ 0.  1.]\n",
      " [ 1.  0.]]\n",
      "[['' '']\n",
      " ['' '_']]\n"
     ]
    },
    {
     "name": "stderr",
     "output_type": "stream",
     "text": [
      "\n",
      "======================================================================\n",
      "FAIL: test_all_sub_case (__main__.TestAugMinEditDist)\n",
      "----------------------------------------------------------------------\n",
      "Traceback (most recent call last):\n",
      "  File \"<ipython-input-91-294eabc748a3>\", line 26, in test_all_sub_case\n",
      "    self.assertEqual(aug_min_edit_dist(src1, tgt1), (2, \"S\"))\n",
      "AssertionError: Tuples differ: (2.0, 'D') != (2, 'S')\n",
      "\n",
      "First differing element 1:\n",
      "'D'\n",
      "'S'\n",
      "\n",
      "- (2.0, 'D')\n",
      "?   --   ^\n",
      "\n",
      "+ (2, 'S')\n",
      "?      ^\n",
      "\n",
      "\n",
      "======================================================================\n",
      "FAIL: test_delete_case (__main__.TestAugMinEditDist)\n",
      "----------------------------------------------------------------------\n",
      "Traceback (most recent call last):\n",
      "  File \"<ipython-input-91-294eabc748a3>\", line 15, in test_delete_case\n",
      "    self.assertEqual(aug_min_edit_dist(\"ab\", \"a\"), (1,\"_D\"))\n",
      "AssertionError: Tuples differ: (1.0, 'D') != (1, '_D')\n",
      "\n",
      "First differing element 1:\n",
      "'D'\n",
      "'_D'\n",
      "\n",
      "- (1.0, 'D')\n",
      "?   --\n",
      "\n",
      "+ (1, '_D')\n",
      "?      +\n",
      "\n",
      "\n",
      "======================================================================\n",
      "FAIL: test_ins_case (__main__.TestAugMinEditDist)\n",
      "----------------------------------------------------------------------\n",
      "Traceback (most recent call last):\n",
      "  File \"<ipython-input-91-294eabc748a3>\", line 21, in test_ins_case\n",
      "    self.assertEqual(aug_min_edit_dist(src2, tgt2), (1,\"_I\"))\n",
      "AssertionError: Tuples differ: (1.0, '_') != (1, '_I')\n",
      "\n",
      "First differing element 1:\n",
      "'_'\n",
      "'_I'\n",
      "\n",
      "- (1.0, '_')\n",
      "?   --\n",
      "\n",
      "+ (1, '_I')\n",
      "?       +\n",
      "\n",
      "\n",
      "----------------------------------------------------------------------\n",
      "Ran 4 tests in 0.026s\n",
      "\n",
      "FAILED (failures=3)\n"
     ]
    },
    {
     "data": {
      "text/plain": [
       "<unittest.runner.TextTestResult run=4 errors=0 failures=3>"
      ]
     },
     "execution_count": 91,
     "metadata": {},
     "output_type": "execute_result"
    }
   ],
   "source": [
    "import unittest\n",
    "\n",
    "class TestAugMinEditDist(unittest.TestCase):\n",
    "\n",
    "    def test_trivial_base_case(self):\n",
    "        src, tgt = \"\", \"\"\n",
    "        src1, tgt1 = \"a\", \"a\"\n",
    "        self.assertEqual(aug_min_edit_dist(src, tgt), (0,\"\"))\n",
    "        self.assertEqual(aug_min_edit_dist(src1, tgt1), (0,\"_\"))\n",
    "        \n",
    "    def test_delete_case(self):\n",
    "        src1, tgt1 = \"aa\", \"\"\n",
    "        src2, tgt2 = \"ab\", \"a\"\n",
    "        self.assertEqual(aug_min_edit_dist(src1, tgt1), (2,\"DD\"))\n",
    "        self.assertEqual(aug_min_edit_dist(\"ab\", \"a\"), (1,\"_D\"))\n",
    "        \n",
    "    def test_ins_case(self):\n",
    "        src1, tgt1 = \"\", \"aa\"\n",
    "        src2, tgt2 = \"a\", \"ab\"\n",
    "        self.assertEqual(aug_min_edit_dist(src1, tgt1), (2,\"II\"))\n",
    "        self.assertEqual(aug_min_edit_dist(src2, tgt2), (1,\"_I\"))\n",
    "        \n",
    "    def test_all_sub_case(self):\n",
    "        src1, tgt1 = \"a\", \"b\"\n",
    "        src2, tgt2 = \"aa\", \"bb\"\n",
    "        self.assertEqual(aug_min_edit_dist(src1, tgt1), (2, \"S\"))\n",
    "        self.assertEqual(aug_min_edit_dist(src2, tgt2), (4, \"SS\"))\n",
    "        \n",
    "aug_test = TestAugMinEditDist()\n",
    "aug_test_suite = unittest.TestLoader().loadTestsFromModule(aug_test)\n",
    "\n",
    "unittest.TextTestRunner().run(aug_test_suite)"
   ]
  },
  {
   "cell_type": "code",
   "execution_count": null,
   "metadata": {
    "collapsed": true
   },
   "outputs": [],
   "source": []
  }
 ],
 "metadata": {
  "kernelspec": {
   "display_name": "Python 3",
   "language": "python",
   "name": "python3"
  },
  "language_info": {
   "codemirror_mode": {
    "name": "ipython",
    "version": 3
   },
   "file_extension": ".py",
   "mimetype": "text/x-python",
   "name": "python",
   "nbconvert_exporter": "python",
   "pygments_lexer": "ipython3",
   "version": "3.6.0"
  }
 },
 "nbformat": 4,
 "nbformat_minor": 2
}
