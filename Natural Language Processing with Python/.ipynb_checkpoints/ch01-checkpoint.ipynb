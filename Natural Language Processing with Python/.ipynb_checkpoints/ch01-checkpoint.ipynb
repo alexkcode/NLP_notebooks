{
 "cells": [
  {
   "cell_type": "markdown",
   "metadata": {},
   "source": [
    "# 1.2 Getting Started with NLTK\n",
    "\n",
    "The following code will only work on a Linux/Unix system. This step does not need to be repeated for the system the notebooks run on unless packages or corpus needs to be updated."
   ]
  },
  {
   "cell_type": "code",
   "execution_count": null,
   "metadata": {
    "collapsed": false
   },
   "outputs": [],
   "source": [
    "import subprocess\n",
    "\n",
    "# nltk.download()\n",
    "subprocess.run('python -m nltk.downloader all', shell=True, stdout=subprocess.PIPE)\n",
    "\n",
    "# check if nltk installed correctly\n",
    "from nltk.corpus import brown\n",
    "print(brown.words())"
   ]
  }
 ],
 "metadata": {
  "kernelspec": {
   "display_name": "Python 3",
   "language": "python",
   "name": "python3"
  },
  "language_info": {
   "codemirror_mode": {
    "name": "ipython",
    "version": 3
   },
   "file_extension": ".py",
   "mimetype": "text/x-python",
   "name": "python",
   "nbconvert_exporter": "python",
   "pygments_lexer": "ipython3",
   "version": "3.6.0"
  }
 },
 "nbformat": 4,
 "nbformat_minor": 2
}
