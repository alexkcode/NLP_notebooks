{
 "cells": [
  {
   "cell_type": "markdown",
   "metadata": {},
   "source": [
    "# 1.2 Getting Started with NLTK\n",
    "\n",
    "The following code will only work on a Linux/Unix system. This step does not need to be repeated for the system the notebooks run on unless packages or corpus needs to be updated."
   ]
  },
  {
   "cell_type": "code",
   "execution_count": 6,
   "metadata": {
    "collapsed": false
   },
   "outputs": [
    {
     "name": "stdout",
     "output_type": "stream",
     "text": [
      "['The', 'Fulton', 'County', 'Grand', 'Jury', 'said', ...]\n"
     ]
    }
   ],
   "source": [
    "import subprocess\n",
    "\n",
    "# nltk.download()\n",
    "subprocess.run('python -m nltk.downloader all', shell=True, stdout=subprocess.PIPE)\n",
    "\n",
    "# check if nltk installed correctly\n",
    "from nltk.corpus import brown\n",
    "print(brown.words())"
   ]
  },
  {
   "cell_type": "code",
   "execution_count": 16,
   "metadata": {
    "collapsed": false
   },
   "outputs": [
    {
     "name": "stdout",
     "output_type": "stream",
     "text": [
      "<Text: Moby Dick by Herman Melville 1851>\n"
     ]
    }
   ],
   "source": [
    "import nltk.book as bk\n",
    "\n",
    "print(bk.text1)"
   ]
  },
  {
   "cell_type": "code",
   "execution_count": 17,
   "metadata": {
    "collapsed": false
   },
   "outputs": [
    {
     "name": "stdout",
     "output_type": "stream",
     "text": [
      "Displaying 25 of 84 matches:\n",
      "                                     Moby Dick by Herman Melville 1851 ] ETYMO\n",
      "hale must be the same that some call Moby Dick .\" \" Moby Dick ?\" shouted Ahab \n",
      "e same that some call Moby Dick .\" \" Moby Dick ?\" shouted Ahab . \" Do ye know \n",
      "all . Death and devils ! men , it is Moby Dick ye have seen -- Moby Dick -- Mo\n",
      "en , it is Moby Dick ye have seen -- Moby Dick -- Moby Dick !\" \" Captain Ahab \n",
      "by Dick ye have seen -- Moby Dick -- Moby Dick !\" \" Captain Ahab ,\" said Starb\n",
      "r . \" Captain Ahab , I have heard of Moby Dick -- but it was not Moby Dick tha\n",
      "heard of Moby Dick -- but it was not Moby Dick that took off thy leg ?\" \" Who \n",
      "aye , my hearties all round ; it was Moby Dick that dismasted me ; Moby Dick t\n",
      "it was Moby Dick that dismasted me ; Moby Dick that brought me to this dead st\n",
      " the white whale ; a sharp lance for Moby Dick !\" \" God bless ye ,\" he seemed \n",
      "e the white whale ? art not game for Moby Dick ?\" \" I am game for his crooked \n",
      "athful whaleboat ' s bow -- Death to Moby Dick ! God hunt us all , if we do no\n",
      " God hunt us all , if we do not hunt Moby Dick to his death !\" The long , barb\n",
      " no bowels to feel fear ! CHAPTER 41 Moby Dick . I , Ishmael , was one of that\n",
      "l individualizing tidings concerning Moby Dick . It was hardly to be doubted ,\n",
      "uestion must have been no other than Moby Dick . Yet as of late the Sperm Whal\n",
      "y accident ignorantly gave battle to Moby Dick ; such hunters , perhaps , for \n",
      "lating and piling their terrors upon Moby Dick ; those things had gone far to \n",
      "agencies , which eventually invested Moby Dick with new terrors unborrowed fro\n",
      "fishermen recalled , in reference to Moby Dick , the earlier days of the Sperm\n",
      "e things were ready to give chase to Moby Dick ; and a still greater number wh\n",
      "ned , was the unearthly conceit that Moby Dick was ubiquitous ; that he had ac\n",
      "r in their superstitions ; declaring Moby Dick not only ubiquitous , but immor\n",
      "kle - shaped lower jaw beneath him , Moby Dick had reaped away Ahab ' s leg , \n",
      "None\n"
     ]
    }
   ],
   "source": [
    "print(bk.text1.concordance(\"Moby\"))"
   ]
  }
 ],
 "metadata": {
  "kernelspec": {
   "display_name": "Python 3",
   "language": "python",
   "name": "python3"
  },
  "language_info": {
   "codemirror_mode": {
    "name": "ipython",
    "version": 3
   },
   "file_extension": ".py",
   "mimetype": "text/x-python",
   "name": "python",
   "nbconvert_exporter": "python",
   "pygments_lexer": "ipython3",
   "version": "3.6.0"
  }
 },
 "nbformat": 4,
 "nbformat_minor": 2
}
