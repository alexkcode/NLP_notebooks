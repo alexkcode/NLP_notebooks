{
 "cells": [
  {
   "cell_type": "code",
   "execution_count": 7,
   "metadata": {
    "collapsed": false
   },
   "outputs": [
    {
     "name": "stdout",
     "output_type": "stream",
     "text": [
      "showing info https://raw.githubusercontent.com/nltk/nltk_data/gh-pages/index.xml\n"
     ]
    },
    {
     "data": {
      "text/plain": [
       "True"
      ]
     },
     "execution_count": 7,
     "metadata": {},
     "output_type": "execute_result"
    }
   ],
   "source": [
    "import nltk\n",
    "from nltk.corpus import wordnet as wn\n",
    "\n",
    "nltk.download()"
   ]
  },
  {
   "cell_type": "code",
   "execution_count": 30,
   "metadata": {
    "collapsed": false
   },
   "outputs": [
    {
     "name": "stdout",
     "output_type": "stream",
     "text": [
      "(Synset('dog.n.01'), Synset('cat.n.01'))\n",
      "0.8768009843733973\n",
      "(Synset('dog.n.01'), Synset('elephant.n.01'))\n",
      "0.5312808366793076\n",
      "(Synset('cat.n.01'), Synset('dog.n.01'))\n",
      "0.8768009843733973\n",
      "(Synset('cat.n.01'), Synset('elephant.n.01'))\n",
      "0.5303794901817894\n",
      "(Synset('elephant.n.01'), Synset('dog.n.01'))\n",
      "0.5312808366793076\n",
      "(Synset('elephant.n.01'), Synset('cat.n.01'))\n",
      "0.5303794901817894\n"
     ]
    }
   ],
   "source": [
    "from nltk.corpus import wordnet_ic\n",
    "import itertools\n",
    "\n",
    "brown_ic = wordnet_ic.ic('ic-brown.dat')\n",
    "\n",
    "dog = wn.synset('dog.n.01')\n",
    "cat = wn.synset('cat.n.01')\n",
    "elephant = wn.synset('elephant.n.01')\n",
    "\n",
    "words = [dog, cat, elephant]\n",
    "\n",
    "for permutation in itertools.permutations(words, 2):\n",
    "    print(permutation)\n",
    "    print(permutation[0].lin_similarity(permutation[1], brown_ic))"
   ]
  }
 ],
 "metadata": {
  "anaconda-cloud": {},
  "kernelspec": {
   "display_name": "Python 3",
   "language": "python",
   "name": "python3"
  },
  "language_info": {
   "codemirror_mode": {
    "name": "ipython",
    "version": 3
   },
   "file_extension": ".py",
   "mimetype": "text/x-python",
   "name": "python",
   "nbconvert_exporter": "python",
   "pygments_lexer": "ipython3",
   "version": "3.4.5"
  }
 },
 "nbformat": 4,
 "nbformat_minor": 1
}
