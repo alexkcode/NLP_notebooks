{
 "cells": [
  {
   "cell_type": "markdown",
   "metadata": {},
   "source": [
    "# Week 3 Quiz Questions\n",
    "## Corpus Import Check"
   ]
  },
  {
   "cell_type": "code",
   "execution_count": 2,
   "metadata": {
    "collapsed": false
   },
   "outputs": [
    {
     "ename": "SyntaxError",
     "evalue": "invalid syntax (<ipython-input-2-718e965e8bde>, line 4)",
     "output_type": "error",
     "traceback": [
      "\u001b[0;36m  File \u001b[0;32m\"<ipython-input-2-718e965e8bde>\"\u001b[0;36m, line \u001b[0;32m4\u001b[0m\n\u001b[0;31m    if not (from nltk.corpus import brown.words()):\u001b[0m\n\u001b[0m               ^\u001b[0m\n\u001b[0;31mSyntaxError\u001b[0m\u001b[0;31m:\u001b[0m invalid syntax\n"
     ]
    }
   ],
   "source": [
    "import nltk\n",
    "from nltk.corpus import wordnet as wn\n",
    "import importlib as imp\n",
    "\n",
    "try:\n",
    "    test_module = imp.find_module('nltk')\n",
    "    test_lib = imp.load_module('*brown')\n",
    "    nltk.download()"
   ]
  },
  {
   "cell_type": "markdown",
   "metadata": {},
   "source": [
    "## Question 1\n",
    "### Brown Corpus Lin Text Similarity"
   ]
  },
  {
   "cell_type": "code",
   "execution_count": 30,
   "metadata": {
    "collapsed": false
   },
   "outputs": [
    {
     "name": "stdout",
     "output_type": "stream",
     "text": [
      "(Synset('dog.n.01'), Synset('cat.n.01'))\n",
      "0.8768009843733973\n",
      "(Synset('dog.n.01'), Synset('elephant.n.01'))\n",
      "0.5312808366793076\n",
      "(Synset('cat.n.01'), Synset('dog.n.01'))\n",
      "0.8768009843733973\n",
      "(Synset('cat.n.01'), Synset('elephant.n.01'))\n",
      "0.5303794901817894\n",
      "(Synset('elephant.n.01'), Synset('dog.n.01'))\n",
      "0.5312808366793076\n",
      "(Synset('elephant.n.01'), Synset('cat.n.01'))\n",
      "0.5303794901817894\n"
     ]
    }
   ],
   "source": [
    "from nltk.corpus import wordnet_ic\n",
    "import itertools\n",
    "\n",
    "brown_ic = wordnet_ic.ic('ic-brown.dat')\n",
    "\n",
    "dog = wn.synset('dog.n.01')\n",
    "cat = wn.synset('cat.n.01')\n",
    "elephant = wn.synset('elephant.n.01')\n",
    "\n",
    "words = [dog, cat, elephant]\n",
    "\n",
    "for permutation in itertools.permutations(words, 2):\n",
    "    print(permutation)\n",
    "    print(permutation[0].lin_similarity(permutation[1], brown_ic))"
   ]
  },
  {
   "cell_type": "markdown",
   "metadata": {},
   "source": [
    "## Question 2\n",
    "### Levenshtein Edit Distance"
   ]
  },
  {
   "cell_type": "code",
   "execution_count": 2,
   "metadata": {
    "collapsed": false
   },
   "outputs": [],
   "source": [
    "import itertools as it\n",
    "import numpy as np\n",
    "\n",
    "def lev_edit_dist(word1, word2):\n",
    "    w1_len, w2_len = len(word1), len(word2)\n",
    "    ed_array = np.zeros((w1_len,w2_len))\n",
    "    def t(i,j):\n",
    "        if (word1[i] == word2[j]):\n",
    "            return 0\n",
    "        else:\n",
    "            return 1\n",
    "    def d(i,j):\n",
    "        if (i==0):\n",
    "            ed_array[i,j] = j\n",
    "        if (j==0):\n",
    "            ed_array[i,j] = i\n",
    "        else:\n",
    "            ed_array[i,j] = min(ed_array[i-1,j]+1,\n",
    "                                ed_array[i,j-1]+1,\n",
    "                                ed_array[i-1,j-1]+t(i,j))\n",
    "    for (i,j) in it.product(range(w1_len),range(w2_len)):\n",
    "#         print(i,j)\n",
    "        d(i,j)\n",
    "    return ed_array[w1_len-1,w2_len-1]"
   ]
  },
  {
   "cell_type": "code",
   "execution_count": 4,
   "metadata": {
    "collapsed": false
   },
   "outputs": [
    {
     "name": "stderr",
     "output_type": "stream",
     "text": [
      ".\n",
      "----------------------------------------------------------------------\n",
      "Ran 1 test in 0.001s\n",
      "\n",
      "OK\n"
     ]
    },
    {
     "data": {
      "text/plain": [
       "<unittest.runner.TextTestResult run=1 errors=0 failures=0>"
      ]
     },
     "execution_count": 4,
     "metadata": {},
     "output_type": "execute_result"
    }
   ],
   "source": [
    "import unittest\n",
    "\n",
    "class TestLevEditDist(unittest.TestCase):\n",
    "    \n",
    "    def test_levEditDist(self):\n",
    "        w1, w2 = 'aabb', 'bbaa'\n",
    "        self.assertEqual(lev_edit_dist(w1, w2), 2)\n",
    "        \n",
    "edit_dist_test = TestLevEditDist()\n",
    "test_suite = unittest.TestLoader().loadTestsFromModule(edit_dist_test);\n",
    "unittest.TextTestRunner().run(test_suite)"
   ]
  },
  {
   "cell_type": "code",
   "execution_count": 13,
   "metadata": {
    "collapsed": false
   },
   "outputs": [
    {
     "data": {
      "text/plain": [
       "4.0"
      ]
     },
     "execution_count": 13,
     "metadata": {},
     "output_type": "execute_result"
    }
   ],
   "source": [
    "lev_edit_dist('apples','pears')"
   ]
  },
  {
   "cell_type": "markdown",
   "metadata": {},
   "source": [
    "## Question 3\n",
    "### Porter's Stemmer"
   ]
  },
  {
   "cell_type": "markdown",
   "metadata": {},
   "source": [
    "#### Explanation\n",
    "\n",
    "The stemmer will iterate through the entire string multiple times until no patterns match anymore. In each iteration it will check against a fixed set of 'stemming' patterns and then apply the one that matches to the string, transforming it. "
   ]
  },
  {
   "cell_type": "code",
   "execution_count": 2,
   "metadata": {
    "collapsed": false
   },
   "outputs": [
    {
     "name": "stdout",
     "output_type": "stream",
     "text": [
      "comput\n"
     ]
    }
   ],
   "source": [
    "from nltk.stem.porter import PorterStemmer\n",
    "\n",
    "stemmer = PorterStemmer()\n",
    "print(stemmer.stem('computational'))"
   ]
  },
  {
   "cell_type": "markdown",
   "metadata": {},
   "source": [
    "## Question 4"
   ]
  },
  {
   "cell_type": "markdown",
   "metadata": {},
   "source": [
    "### Semantic Role Labeling"
   ]
  },
  {
   "cell_type": "code",
   "execution_count": null,
   "metadata": {
    "collapsed": true
   },
   "outputs": [],
   "source": []
  }
 ],
 "metadata": {
  "anaconda-cloud": {},
  "kernelspec": {
   "display_name": "Python [default]",
   "language": "python",
   "name": "python3"
  },
  "language_info": {
   "codemirror_mode": {
    "name": "ipython",
    "version": 3
   },
   "file_extension": ".py",
   "mimetype": "text/x-python",
   "name": "python",
   "nbconvert_exporter": "python",
   "pygments_lexer": "ipython3",
   "version": "3.5.2"
  }
 },
 "nbformat": 4,
 "nbformat_minor": 1
}
