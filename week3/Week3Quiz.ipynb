{
 "cells": [
  {
   "cell_type": "code",
   "execution_count": 2,
   "metadata": {
    "collapsed": false
   },
   "outputs": [
    {
     "ename": "SyntaxError",
     "evalue": "invalid syntax (<ipython-input-2-718e965e8bde>, line 4)",
     "output_type": "error",
     "traceback": [
      "\u001b[0;36m  File \u001b[0;32m\"<ipython-input-2-718e965e8bde>\"\u001b[0;36m, line \u001b[0;32m4\u001b[0m\n\u001b[0;31m    if not (from nltk.corpus import brown.words()):\u001b[0m\n\u001b[0m               ^\u001b[0m\n\u001b[0;31mSyntaxError\u001b[0m\u001b[0;31m:\u001b[0m invalid syntax\n"
     ]
    }
   ],
   "source": [
    "import nltk\n",
    "from nltk.corpus import wordnet as wn\n",
    "import importlib as imp\n",
    "\n",
    "try:\n",
    "    test_module = imp.find_module('nltk')\n",
    "    test_lib = imp.load_module('*brown')\n",
    "    nltk.download()"
   ]
  },
  {
   "cell_type": "code",
   "execution_count": 30,
   "metadata": {
    "collapsed": false
   },
   "outputs": [
    {
     "name": "stdout",
     "output_type": "stream",
     "text": [
      "(Synset('dog.n.01'), Synset('cat.n.01'))\n",
      "0.8768009843733973\n",
      "(Synset('dog.n.01'), Synset('elephant.n.01'))\n",
      "0.5312808366793076\n",
      "(Synset('cat.n.01'), Synset('dog.n.01'))\n",
      "0.8768009843733973\n",
      "(Synset('cat.n.01'), Synset('elephant.n.01'))\n",
      "0.5303794901817894\n",
      "(Synset('elephant.n.01'), Synset('dog.n.01'))\n",
      "0.5312808366793076\n",
      "(Synset('elephant.n.01'), Synset('cat.n.01'))\n",
      "0.5303794901817894\n"
     ]
    }
   ],
   "source": [
    "from nltk.corpus import wordnet_ic\n",
    "import itertools\n",
    "\n",
    "brown_ic = wordnet_ic.ic('ic-brown.dat')\n",
    "\n",
    "dog = wn.synset('dog.n.01')\n",
    "cat = wn.synset('cat.n.01')\n",
    "elephant = wn.synset('elephant.n.01')\n",
    "\n",
    "words = [dog, cat, elephant]\n",
    "\n",
    "for permutation in itertools.permutations(words, 2):\n",
    "    print(permutation)\n",
    "    print(permutation[0].lin_similarity(permutation[1], brown_ic))"
   ]
  },
  {
   "cell_type": "code",
   "execution_count": 10,
   "metadata": {
    "collapsed": false
   },
   "outputs": [],
   "source": [
    "import itertools as it\n",
    "import numpy as np\n",
    "\n",
    "def lev_edit_dist(word1, word2):\n",
    "    w1_len, w2_len = len(word1), len(word2)\n",
    "    ed_array = np.zeros((w1_len,w2_len))\n",
    "    def t(i,j):\n",
    "        if (word1[i] == word2[j]):\n",
    "            return 0\n",
    "        else:\n",
    "            return 1\n",
    "    def d(i,j):\n",
    "        if (i==0):\n",
    "            ed_array[i,j] = j\n",
    "        if (j==0):\n",
    "            ed_array[i,j] = i\n",
    "        else:\n",
    "            ed_array[i,j] = min(ed_array[i-1,j]+1,\n",
    "                                ed_array[i,j-1]+1,\n",
    "                                ed_array[i-1,j-1]+t(i,j))\n",
    "    for (i,j) in it.product(range(w1_len),range(w2_len)):\n",
    "#         print(i,j)\n",
    "        d(i,j)\n",
    "    return ed_array[w1_len-1,w2_len-1]"
   ]
  },
  {
   "cell_type": "code",
   "execution_count": 16,
   "metadata": {
    "collapsed": false
   },
   "outputs": [
    {
     "name": "stderr",
     "output_type": "stream",
     "text": [
      "E\n",
      "======================================================================\n",
      "ERROR: /run/user/1000/jupyter/kernel-5047f244-ebee-4815-8e8a-c4f82e6ace22 (unittest.loader._FailedTest)\n",
      "----------------------------------------------------------------------\n",
      "AttributeError: module '__main__' has no attribute '/run/user/1000/jupyter/kernel-5047f244-ebee-4815-8e8a-c4f82e6ace22'\n",
      "\n",
      "----------------------------------------------------------------------\n",
      "Ran 1 test in 0.000s\n",
      "\n",
      "FAILED (errors=1)\n"
     ]
    },
    {
     "ename": "SystemExit",
     "evalue": "True",
     "output_type": "error",
     "traceback": [
      "An exception has occurred, use %tb to see the full traceback.\n",
      "\u001b[0;31mSystemExit\u001b[0m\u001b[0;31m:\u001b[0m True\n"
     ]
    },
    {
     "name": "stderr",
     "output_type": "stream",
     "text": [
      "/home/omni/anaconda3/lib/python3.5/site-packages/IPython/core/interactiveshell.py:2889: UserWarning: To exit: use 'exit', 'quit', or Ctrl-D.\n",
      "  warn(\"To exit: use 'exit', 'quit', or Ctrl-D.\", stacklevel=1)\n"
     ]
    }
   ],
   "source": [
    "import unittest\n",
    "\n",
    "class TestLevEditDist(unittest.TestCase):\n",
    "    \n",
    "    def test_levEditDist(self):\n",
    "        w1, w2 = 'aabb', 'bbaa'\n",
    "        self.assertEquals(lev_edit_dist(w1, w2), 2)"
   ]
  },
  {
   "cell_type": "code",
   "execution_count": 13,
   "metadata": {
    "collapsed": false
   },
   "outputs": [
    {
     "data": {
      "text/plain": [
       "4.0"
      ]
     },
     "execution_count": 13,
     "metadata": {},
     "output_type": "execute_result"
    }
   ],
   "source": [
    "lev_edit_dist('apples','pears')"
   ]
  }
 ],
 "metadata": {
  "anaconda-cloud": {},
  "kernelspec": {
   "display_name": "Python [default]",
   "language": "python",
   "name": "python3"
  },
  "language_info": {
   "codemirror_mode": {
    "name": "ipython",
    "version": 3
   },
   "file_extension": ".py",
   "mimetype": "text/x-python",
   "name": "python",
   "nbconvert_exporter": "python",
   "pygments_lexer": "ipython3",
   "version": "3.5.2"
  }
 },
 "nbformat": 4,
 "nbformat_minor": 1
}
